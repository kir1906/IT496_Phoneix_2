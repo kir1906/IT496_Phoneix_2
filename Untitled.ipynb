{
 "cells": [
  {
   "cell_type": "code",
   "execution_count": 16,
   "id": "2c691200-6938-4e69-a8dd-09c01df99b90",
   "metadata": {},
   "outputs": [],
   "source": [
    "import numpy as np\n",
    "import pandas as pd\n",
    "import matplotlib.pyplot as plt\n",
    "import seaborn as sns"
   ]
  },
  {
   "cell_type": "code",
   "execution_count": null,
   "id": "97cee99e-3bcf-4ec8-93d3-899df4e9417c",
   "metadata": {},
   "outputs": [],
   "source": [
    "# pd.read_csv('./dataset.csv').to_parquet('dataset.parquet')"
   ]
  },
  {
   "cell_type": "code",
   "execution_count": 17,
   "id": "44d23022-d120-4198-a444-8b29e0a6ae19",
   "metadata": {},
   "outputs": [],
   "source": [
    "df = pd.read_parquet('dataset_preprocessed.parquet')"
   ]
  },
  {
   "cell_type": "code",
   "execution_count": 3,
   "id": "5bfdcc11-a7cf-4874-a289-113504ec6ec6",
   "metadata": {},
   "outputs": [
    {
     "data": {
      "text/html": [
       "<div>\n",
       "<style scoped>\n",
       "    .dataframe tbody tr th:only-of-type {\n",
       "        vertical-align: middle;\n",
       "    }\n",
       "\n",
       "    .dataframe tbody tr th {\n",
       "        vertical-align: top;\n",
       "    }\n",
       "\n",
       "    .dataframe thead th {\n",
       "        text-align: right;\n",
       "    }\n",
       "</style>\n",
       "<table border=\"1\" class=\"dataframe\">\n",
       "  <thead>\n",
       "    <tr style=\"text-align: right;\">\n",
       "      <th></th>\n",
       "      <th>Unnamed: 0</th>\n",
       "      <th>age</th>\n",
       "      <th>height</th>\n",
       "      <th>weight</th>\n",
       "      <th>waistline</th>\n",
       "      <th>SBP</th>\n",
       "      <th>DBP</th>\n",
       "      <th>BLDS</th>\n",
       "      <th>tot_chole</th>\n",
       "      <th>hemoglobin</th>\n",
       "      <th>...</th>\n",
       "      <th>SMK_stat_type_cd</th>\n",
       "      <th>sex</th>\n",
       "      <th>SIGHT</th>\n",
       "      <th>HEAR</th>\n",
       "      <th>BMI</th>\n",
       "      <th>TOTAL_CHOLESTEROL</th>\n",
       "      <th>KIDNEY_FUNCTION_INDEX</th>\n",
       "      <th>LIVER_FUNCTION_INDEX</th>\n",
       "      <th>CARDIOVASCULAR_HEALTH_INDEX</th>\n",
       "      <th>DRK_YN</th>\n",
       "    </tr>\n",
       "  </thead>\n",
       "  <tbody>\n",
       "    <tr>\n",
       "      <th>0</th>\n",
       "      <td>0</td>\n",
       "      <td>35.0</td>\n",
       "      <td>170</td>\n",
       "      <td>75</td>\n",
       "      <td>90.0</td>\n",
       "      <td>120.0</td>\n",
       "      <td>80.0</td>\n",
       "      <td>99.0</td>\n",
       "      <td>193.0</td>\n",
       "      <td>17.1</td>\n",
       "      <td>...</td>\n",
       "      <td>1.0</td>\n",
       "      <td>0</td>\n",
       "      <td>2.0</td>\n",
       "      <td>2.0</td>\n",
       "      <td>25.951557</td>\n",
       "      <td>266.0</td>\n",
       "      <td>1.000000</td>\n",
       "      <td>1.252381</td>\n",
       "      <td>2.479167</td>\n",
       "      <td>1</td>\n",
       "    </tr>\n",
       "    <tr>\n",
       "      <th>1</th>\n",
       "      <td>1</td>\n",
       "      <td>30.0</td>\n",
       "      <td>180</td>\n",
       "      <td>80</td>\n",
       "      <td>89.0</td>\n",
       "      <td>130.0</td>\n",
       "      <td>82.0</td>\n",
       "      <td>106.0</td>\n",
       "      <td>228.0</td>\n",
       "      <td>15.8</td>\n",
       "      <td>...</td>\n",
       "      <td>3.0</td>\n",
       "      <td>0</td>\n",
       "      <td>2.1</td>\n",
       "      <td>2.0</td>\n",
       "      <td>24.691358</td>\n",
       "      <td>324.0</td>\n",
       "      <td>0.916667</td>\n",
       "      <td>0.952778</td>\n",
       "      <td>2.643607</td>\n",
       "      <td>0</td>\n",
       "    </tr>\n",
       "    <tr>\n",
       "      <th>2</th>\n",
       "      <td>2</td>\n",
       "      <td>40.0</td>\n",
       "      <td>165</td>\n",
       "      <td>75</td>\n",
       "      <td>91.0</td>\n",
       "      <td>120.0</td>\n",
       "      <td>70.0</td>\n",
       "      <td>98.0</td>\n",
       "      <td>136.0</td>\n",
       "      <td>15.8</td>\n",
       "      <td>...</td>\n",
       "      <td>1.0</td>\n",
       "      <td>0</td>\n",
       "      <td>2.7</td>\n",
       "      <td>2.0</td>\n",
       "      <td>27.548209</td>\n",
       "      <td>219.0</td>\n",
       "      <td>0.916667</td>\n",
       "      <td>1.457779</td>\n",
       "      <td>2.522648</td>\n",
       "      <td>0</td>\n",
       "    </tr>\n",
       "    <tr>\n",
       "      <th>3</th>\n",
       "      <td>3</td>\n",
       "      <td>50.0</td>\n",
       "      <td>175</td>\n",
       "      <td>80</td>\n",
       "      <td>91.0</td>\n",
       "      <td>145.0</td>\n",
       "      <td>87.0</td>\n",
       "      <td>95.0</td>\n",
       "      <td>201.0</td>\n",
       "      <td>17.6</td>\n",
       "      <td>...</td>\n",
       "      <td>1.0</td>\n",
       "      <td>0</td>\n",
       "      <td>2.7</td>\n",
       "      <td>2.0</td>\n",
       "      <td>26.122449</td>\n",
       "      <td>286.0</td>\n",
       "      <td>1.083333</td>\n",
       "      <td>0.736815</td>\n",
       "      <td>1.902047</td>\n",
       "      <td>0</td>\n",
       "    </tr>\n",
       "    <tr>\n",
       "      <th>4</th>\n",
       "      <td>4</td>\n",
       "      <td>50.0</td>\n",
       "      <td>165</td>\n",
       "      <td>60</td>\n",
       "      <td>80.0</td>\n",
       "      <td>138.0</td>\n",
       "      <td>82.0</td>\n",
       "      <td>101.0</td>\n",
       "      <td>199.0</td>\n",
       "      <td>13.8</td>\n",
       "      <td>...</td>\n",
       "      <td>1.0</td>\n",
       "      <td>0</td>\n",
       "      <td>2.2</td>\n",
       "      <td>2.0</td>\n",
       "      <td>22.038567</td>\n",
       "      <td>282.0</td>\n",
       "      <td>0.833333</td>\n",
       "      <td>1.449561</td>\n",
       "      <td>2.216713</td>\n",
       "      <td>0</td>\n",
       "    </tr>\n",
       "  </tbody>\n",
       "</table>\n",
       "<p>5 rows × 25 columns</p>\n",
       "</div>"
      ],
      "text/plain": [
       "   Unnamed: 0   age  height  weight  waistline    SBP   DBP   BLDS  tot_chole  \\\n",
       "0           0  35.0     170      75       90.0  120.0  80.0   99.0      193.0   \n",
       "1           1  30.0     180      80       89.0  130.0  82.0  106.0      228.0   \n",
       "2           2  40.0     165      75       91.0  120.0  70.0   98.0      136.0   \n",
       "3           3  50.0     175      80       91.0  145.0  87.0   95.0      201.0   \n",
       "4           4  50.0     165      60       80.0  138.0  82.0  101.0      199.0   \n",
       "\n",
       "   hemoglobin  ...  SMK_stat_type_cd  sex  SIGHT  HEAR        BMI  \\\n",
       "0        17.1  ...               1.0    0    2.0   2.0  25.951557   \n",
       "1        15.8  ...               3.0    0    2.1   2.0  24.691358   \n",
       "2        15.8  ...               1.0    0    2.7   2.0  27.548209   \n",
       "3        17.6  ...               1.0    0    2.7   2.0  26.122449   \n",
       "4        13.8  ...               1.0    0    2.2   2.0  22.038567   \n",
       "\n",
       "   TOTAL_CHOLESTEROL  KIDNEY_FUNCTION_INDEX  LIVER_FUNCTION_INDEX  \\\n",
       "0              266.0               1.000000              1.252381   \n",
       "1              324.0               0.916667              0.952778   \n",
       "2              219.0               0.916667              1.457779   \n",
       "3              286.0               1.083333              0.736815   \n",
       "4              282.0               0.833333              1.449561   \n",
       "\n",
       "   CARDIOVASCULAR_HEALTH_INDEX  DRK_YN  \n",
       "0                     2.479167       1  \n",
       "1                     2.643607       0  \n",
       "2                     2.522648       0  \n",
       "3                     1.902047       0  \n",
       "4                     2.216713       0  \n",
       "\n",
       "[5 rows x 25 columns]"
      ]
     },
     "execution_count": 3,
     "metadata": {},
     "output_type": "execute_result"
    }
   ],
   "source": [
    "df.head()"
   ]
  },
  {
   "cell_type": "code",
   "execution_count": 4,
   "id": "c2a8ce7b-3c54-4a8b-a446-2f554bc020e0",
   "metadata": {},
   "outputs": [],
   "source": [
    "df = df.drop(['Unnamed: 0'], axis=1)"
   ]
  },
  {
   "cell_type": "code",
   "execution_count": 5,
   "id": "73141401-1ac8-4d06-8257-18d0de44fa57",
   "metadata": {},
   "outputs": [
    {
     "data": {
      "text/html": [
       "<div>\n",
       "<style scoped>\n",
       "    .dataframe tbody tr th:only-of-type {\n",
       "        vertical-align: middle;\n",
       "    }\n",
       "\n",
       "    .dataframe tbody tr th {\n",
       "        vertical-align: top;\n",
       "    }\n",
       "\n",
       "    .dataframe thead th {\n",
       "        text-align: right;\n",
       "    }\n",
       "</style>\n",
       "<table border=\"1\" class=\"dataframe\">\n",
       "  <thead>\n",
       "    <tr style=\"text-align: right;\">\n",
       "      <th></th>\n",
       "      <th>age</th>\n",
       "      <th>height</th>\n",
       "      <th>weight</th>\n",
       "      <th>waistline</th>\n",
       "      <th>SBP</th>\n",
       "      <th>DBP</th>\n",
       "      <th>BLDS</th>\n",
       "      <th>tot_chole</th>\n",
       "      <th>hemoglobin</th>\n",
       "      <th>urine_protein</th>\n",
       "      <th>...</th>\n",
       "      <th>SMK_stat_type_cd</th>\n",
       "      <th>sex</th>\n",
       "      <th>SIGHT</th>\n",
       "      <th>HEAR</th>\n",
       "      <th>BMI</th>\n",
       "      <th>TOTAL_CHOLESTEROL</th>\n",
       "      <th>KIDNEY_FUNCTION_INDEX</th>\n",
       "      <th>LIVER_FUNCTION_INDEX</th>\n",
       "      <th>CARDIOVASCULAR_HEALTH_INDEX</th>\n",
       "      <th>DRK_YN</th>\n",
       "    </tr>\n",
       "  </thead>\n",
       "  <tbody>\n",
       "    <tr>\n",
       "      <th>0</th>\n",
       "      <td>35.0</td>\n",
       "      <td>170</td>\n",
       "      <td>75</td>\n",
       "      <td>90.0</td>\n",
       "      <td>120.0</td>\n",
       "      <td>80.0</td>\n",
       "      <td>99.0</td>\n",
       "      <td>193.0</td>\n",
       "      <td>17.1</td>\n",
       "      <td>1.0</td>\n",
       "      <td>...</td>\n",
       "      <td>1.0</td>\n",
       "      <td>0</td>\n",
       "      <td>2.0</td>\n",
       "      <td>2.0</td>\n",
       "      <td>25.951557</td>\n",
       "      <td>266.0</td>\n",
       "      <td>1.000000</td>\n",
       "      <td>1.252381</td>\n",
       "      <td>2.479167</td>\n",
       "      <td>1</td>\n",
       "    </tr>\n",
       "    <tr>\n",
       "      <th>1</th>\n",
       "      <td>30.0</td>\n",
       "      <td>180</td>\n",
       "      <td>80</td>\n",
       "      <td>89.0</td>\n",
       "      <td>130.0</td>\n",
       "      <td>82.0</td>\n",
       "      <td>106.0</td>\n",
       "      <td>228.0</td>\n",
       "      <td>15.8</td>\n",
       "      <td>1.0</td>\n",
       "      <td>...</td>\n",
       "      <td>3.0</td>\n",
       "      <td>0</td>\n",
       "      <td>2.1</td>\n",
       "      <td>2.0</td>\n",
       "      <td>24.691358</td>\n",
       "      <td>324.0</td>\n",
       "      <td>0.916667</td>\n",
       "      <td>0.952778</td>\n",
       "      <td>2.643607</td>\n",
       "      <td>0</td>\n",
       "    </tr>\n",
       "    <tr>\n",
       "      <th>2</th>\n",
       "      <td>40.0</td>\n",
       "      <td>165</td>\n",
       "      <td>75</td>\n",
       "      <td>91.0</td>\n",
       "      <td>120.0</td>\n",
       "      <td>70.0</td>\n",
       "      <td>98.0</td>\n",
       "      <td>136.0</td>\n",
       "      <td>15.8</td>\n",
       "      <td>1.0</td>\n",
       "      <td>...</td>\n",
       "      <td>1.0</td>\n",
       "      <td>0</td>\n",
       "      <td>2.7</td>\n",
       "      <td>2.0</td>\n",
       "      <td>27.548209</td>\n",
       "      <td>219.0</td>\n",
       "      <td>0.916667</td>\n",
       "      <td>1.457779</td>\n",
       "      <td>2.522648</td>\n",
       "      <td>0</td>\n",
       "    </tr>\n",
       "    <tr>\n",
       "      <th>3</th>\n",
       "      <td>50.0</td>\n",
       "      <td>175</td>\n",
       "      <td>80</td>\n",
       "      <td>91.0</td>\n",
       "      <td>145.0</td>\n",
       "      <td>87.0</td>\n",
       "      <td>95.0</td>\n",
       "      <td>201.0</td>\n",
       "      <td>17.6</td>\n",
       "      <td>1.0</td>\n",
       "      <td>...</td>\n",
       "      <td>1.0</td>\n",
       "      <td>0</td>\n",
       "      <td>2.7</td>\n",
       "      <td>2.0</td>\n",
       "      <td>26.122449</td>\n",
       "      <td>286.0</td>\n",
       "      <td>1.083333</td>\n",
       "      <td>0.736815</td>\n",
       "      <td>1.902047</td>\n",
       "      <td>0</td>\n",
       "    </tr>\n",
       "    <tr>\n",
       "      <th>4</th>\n",
       "      <td>50.0</td>\n",
       "      <td>165</td>\n",
       "      <td>60</td>\n",
       "      <td>80.0</td>\n",
       "      <td>138.0</td>\n",
       "      <td>82.0</td>\n",
       "      <td>101.0</td>\n",
       "      <td>199.0</td>\n",
       "      <td>13.8</td>\n",
       "      <td>1.0</td>\n",
       "      <td>...</td>\n",
       "      <td>1.0</td>\n",
       "      <td>0</td>\n",
       "      <td>2.2</td>\n",
       "      <td>2.0</td>\n",
       "      <td>22.038567</td>\n",
       "      <td>282.0</td>\n",
       "      <td>0.833333</td>\n",
       "      <td>1.449561</td>\n",
       "      <td>2.216713</td>\n",
       "      <td>0</td>\n",
       "    </tr>\n",
       "  </tbody>\n",
       "</table>\n",
       "<p>5 rows × 24 columns</p>\n",
       "</div>"
      ],
      "text/plain": [
       "    age  height  weight  waistline    SBP   DBP   BLDS  tot_chole  hemoglobin  \\\n",
       "0  35.0     170      75       90.0  120.0  80.0   99.0      193.0        17.1   \n",
       "1  30.0     180      80       89.0  130.0  82.0  106.0      228.0        15.8   \n",
       "2  40.0     165      75       91.0  120.0  70.0   98.0      136.0        15.8   \n",
       "3  50.0     175      80       91.0  145.0  87.0   95.0      201.0        17.6   \n",
       "4  50.0     165      60       80.0  138.0  82.0  101.0      199.0        13.8   \n",
       "\n",
       "   urine_protein  ...  SMK_stat_type_cd  sex  SIGHT  HEAR        BMI  \\\n",
       "0            1.0  ...               1.0    0    2.0   2.0  25.951557   \n",
       "1            1.0  ...               3.0    0    2.1   2.0  24.691358   \n",
       "2            1.0  ...               1.0    0    2.7   2.0  27.548209   \n",
       "3            1.0  ...               1.0    0    2.7   2.0  26.122449   \n",
       "4            1.0  ...               1.0    0    2.2   2.0  22.038567   \n",
       "\n",
       "   TOTAL_CHOLESTEROL  KIDNEY_FUNCTION_INDEX  LIVER_FUNCTION_INDEX  \\\n",
       "0              266.0               1.000000              1.252381   \n",
       "1              324.0               0.916667              0.952778   \n",
       "2              219.0               0.916667              1.457779   \n",
       "3              286.0               1.083333              0.736815   \n",
       "4              282.0               0.833333              1.449561   \n",
       "\n",
       "   CARDIOVASCULAR_HEALTH_INDEX  DRK_YN  \n",
       "0                     2.479167       1  \n",
       "1                     2.643607       0  \n",
       "2                     2.522648       0  \n",
       "3                     1.902047       0  \n",
       "4                     2.216713       0  \n",
       "\n",
       "[5 rows x 24 columns]"
      ]
     },
     "execution_count": 5,
     "metadata": {},
     "output_type": "execute_result"
    }
   ],
   "source": [
    "df.head()"
   ]
  },
  {
   "cell_type": "code",
   "execution_count": 6,
   "id": "059e4938-d5cc-47c1-aa22-31d0a3d12e95",
   "metadata": {},
   "outputs": [
    {
     "data": {
      "text/plain": [
       "Index(['age', 'height', 'weight', 'waistline', 'SBP', 'DBP', 'BLDS',\n",
       "       'tot_chole', 'hemoglobin', 'urine_protein', 'serum_creatinine',\n",
       "       'SGOT_AST', 'SGOT_ALT', 'gamma_GTP', 'SMK_stat_type_cd', 'sex', 'SIGHT',\n",
       "       'HEAR', 'BMI', 'TOTAL_CHOLESTEROL', 'KIDNEY_FUNCTION_INDEX',\n",
       "       'LIVER_FUNCTION_INDEX', 'CARDIOVASCULAR_HEALTH_INDEX', 'DRK_YN'],\n",
       "      dtype='object')"
      ]
     },
     "execution_count": 6,
     "metadata": {},
     "output_type": "execute_result"
    }
   ],
   "source": [
    "df.columns"
   ]
  },
  {
   "cell_type": "code",
   "execution_count": 18,
   "id": "2d01146e-11fa-4120-babf-615cc857ba62",
   "metadata": {},
   "outputs": [],
   "source": [
    "from sklearn.model_selection import train_test_split, cross_validate, cross_val_score, GridSearchCV, RandomizedSearchCV\n",
    "from sklearn.preprocessing import StandardScaler\n",
    "from sklearn.decomposition import PCA"
   ]
  },
  {
   "cell_type": "code",
   "execution_count": 19,
   "id": "a3d7d69e-bb91-4bae-8833-a4432edfbbf6",
   "metadata": {},
   "outputs": [],
   "source": [
    "data_df = df.iloc[:,:-1]"
   ]
  },
  {
   "cell_type": "markdown",
   "id": "50c96ae5-2654-4e09-bb9a-0167093dd578",
   "metadata": {},
   "source": [
    ">**We have split our dataset into two train and test datasets down below**"
   ]
  },
  {
   "cell_type": "code",
   "execution_count": 64,
   "id": "1a21266c-a300-4bf6-bf4d-491142ecbce4",
   "metadata": {},
   "outputs": [],
   "source": [
    "x_train, x_test, y_train, y_test = train_test_split(data_df, df[\"DRK_YN\"], random_state=42, test_size=0.2)"
   ]
  },
  {
   "cell_type": "markdown",
   "id": "64c1a431-2f6e-4de0-b4e6-637b80dad49c",
   "metadata": {},
   "source": [
    ">**The train and test datasets are scaled differently. So we have used standard scaling to scale each feature**"
   ]
  },
  {
   "cell_type": "code",
   "execution_count": 65,
   "id": "55116461-6a38-4c88-a608-b166d5cf7241",
   "metadata": {},
   "outputs": [],
   "source": [
    "standard_scaler = StandardScaler().fit(x_train)"
   ]
  },
  {
   "cell_type": "code",
   "execution_count": 66,
   "id": "8560945c-89d2-4c90-bb7b-ca79c2070ffb",
   "metadata": {},
   "outputs": [],
   "source": [
    "x_train_scaled = standard_scaler.transform(x_train)"
   ]
  },
  {
   "cell_type": "code",
   "execution_count": 67,
   "id": "a92c7861-9609-4d64-a5b2-bd90f252b44b",
   "metadata": {},
   "outputs": [],
   "source": [
    "x_test_scaled = standard_scaler.transform(x_test)"
   ]
  },
  {
   "cell_type": "code",
   "execution_count": 68,
   "id": "f1e6e0d7-7e19-41ba-85c7-8707ce9807fb",
   "metadata": {},
   "outputs": [
    {
     "data": {
      "text/plain": [
       "((793076, 24), (198270, 24))"
      ]
     },
     "execution_count": 68,
     "metadata": {},
     "output_type": "execute_result"
    }
   ],
   "source": [
    "x_train_scaled.shape, x_test_scaled.shape"
   ]
  },
  {
   "cell_type": "markdown",
   "id": "77ab7ed4-9143-4d9a-a533-60281cf21532",
   "metadata": {},
   "source": [
    ">**Since our dataset is large, instead of using the whole dataset to evaluate the models, we have used the small part of training dataset to evaluate the models**"
   ]
  },
  {
   "cell_type": "code",
   "execution_count": 20,
   "id": "220dcb16-3279-4e40-bb2a-535ee5ee6f98",
   "metadata": {},
   "outputs": [],
   "source": [
    "dff = df.sample(20000, random_state=42).reset_index(drop=True).copy()"
   ]
  },
  {
   "cell_type": "code",
   "execution_count": 21,
   "id": "b8506753-ffe7-468b-a336-020aa19f49f3",
   "metadata": {},
   "outputs": [
    {
     "data": {
      "text/plain": [
       "(20000, 24)"
      ]
     },
     "execution_count": 21,
     "metadata": {},
     "output_type": "execute_result"
    }
   ],
   "source": [
    "dff.shape"
   ]
  },
  {
   "cell_type": "code",
   "execution_count": 23,
   "id": "08198a69-3fcf-49ad-a72a-4d7c4edac4bf",
   "metadata": {},
   "outputs": [],
   "source": [
    "y_dff = dff['DRK_YN']"
   ]
  },
  {
   "cell_type": "code",
   "execution_count": 24,
   "id": "46b07d60-1dbb-4461-93c1-50ccc8e190c7",
   "metadata": {},
   "outputs": [],
   "source": [
    "dff = dff.iloc[:,:-1]"
   ]
  },
  {
   "cell_type": "markdown",
   "id": "1c970f97-bb4d-4e08-8dfb-4b53551ff97c",
   "metadata": {},
   "source": [
    ">**Our dataset has 24 features. So we can use Principal Component Analysis to reduce the size of the feature and improving the overall time complexity of the model**"
   ]
  },
  {
   "cell_type": "code",
   "execution_count": 128,
   "id": "74d81f0d-1713-416b-b1e7-335cd25a6ccc",
   "metadata": {},
   "outputs": [],
   "source": [
    "pca = PCA(n_components=0.95)"
   ]
  },
  {
   "cell_type": "code",
   "execution_count": 26,
   "id": "db81207f-ccea-438b-83f2-7a425573bfc6",
   "metadata": {},
   "outputs": [],
   "source": [
    "dff = StandardScaler().fit(dff).transform(dff)"
   ]
  },
  {
   "cell_type": "code",
   "execution_count": 132,
   "id": "7325b510-8e4d-462f-80ee-38649e17998f",
   "metadata": {},
   "outputs": [],
   "source": [
    "dff_pca = pca.fit_transform(dff)"
   ]
  },
  {
   "cell_type": "code",
   "execution_count": 133,
   "id": "05883739-6216-4161-ab80-0e6535a74c60",
   "metadata": {},
   "outputs": [
    {
     "data": {
      "text/plain": [
       "(20000, 15)"
      ]
     },
     "execution_count": 133,
     "metadata": {},
     "output_type": "execute_result"
    }
   ],
   "source": [
    "dff_pca.shape"
   ]
  },
  {
   "cell_type": "code",
   "execution_count": 34,
   "id": "489e582a-bfdc-46f9-b5a2-75d57f8b52d4",
   "metadata": {},
   "outputs": [],
   "source": [
    "from sklearn.model_selection import cross_validate, GridSearchCV\n",
    "from sklearn.metrics import mean_squared_error, mean_absolute_error, f1_score, accuracy_score, roc_auc_score\n",
    "from sklearn.linear_model import LogisticRegression\n",
    "from sklearn.neighbors import KNeighborsClassifier\n",
    "from sklearn.tree import DecisionTreeClassifier\n",
    "from sklearn.ensemble import RandomForestClassifier, AdaBoostClassifier\n",
    "from xgboost import XGBClassifier\n",
    "from catboost import CatBoostClassifier"
   ]
  },
  {
   "cell_type": "code",
   "execution_count": 152,
   "id": "72248178-8c3d-4dde-8d15-191b0debdea7",
   "metadata": {},
   "outputs": [],
   "source": [
    "model_results = pd.DataFrame()\n",
    "for method in ['Train_acc', 'Validation_acc', 'f1_score', 'precision', 'recall', 'auc']:\n",
    "    model_results[method] = None"
   ]
  },
  {
   "cell_type": "code",
   "execution_count": 58,
   "id": "c31e3a07-ea24-4bf4-b2be-92cc361b3606",
   "metadata": {},
   "outputs": [],
   "source": [
    "models = {\n",
    "    'Logistic Regression': LogisticRegression(random_state=12345),\n",
    "    'KNN': KNeighborsClassifier(),\n",
    "    'Decision Tree': DecisionTreeClassifier(random_state=12345),\n",
    "    'Random Forest': RandomForestClassifier(random_state=12345),\n",
    "    'XGB': XGBClassifier(random_state=12345, tree_method=\"hist\", device=\"cuda:0\"),\n",
    "    'catboost': CatBoostClassifier(task_type='GPU', verbose=False, random_state=12345)\n",
    "}"
   ]
  },
  {
   "cell_type": "code",
   "execution_count": 333,
   "id": "8614b365-2b52-41a8-9f8d-f5df21ec3703",
   "metadata": {},
   "outputs": [],
   "source": [
    "score_type = ['f1', 'accuracy', 'precision', 'recall', 'roc_auc']"
   ]
  },
  {
   "cell_type": "code",
   "execution_count": 153,
   "id": "1afe68e1-7afd-473b-a1f1-13b2212a4e05",
   "metadata": {},
   "outputs": [],
   "source": [
    "for ind, set in {0: dff, 1:dff_pca}.items():\n",
    "    for model_name, model in models.items():\n",
    "        score = cross_validate(model, set, y_dff, cv=5,\n",
    "                           scoring = score_type,\n",
    "                            return_train_score=True)\n",
    "    \n",
    "        label = model_name if ind == 0 else ('pca_' + model_name)\n",
    "        model_results.loc[label] = [round(score['train_accuracy'].mean(), 4), round(score['test_accuracy'].mean(), 4), round(score['test_f1'].mean(), 4), round(score['test_precision'].mean(), 4), round(score['test_recall'].mean(), 4), round(score['test_roc_auc'].mean(), 4)]\n"
   ]
  },
  {
   "cell_type": "code",
   "execution_count": 154,
   "id": "b82431d2-f140-445e-8608-595332caa852",
   "metadata": {},
   "outputs": [
    {
     "data": {
      "text/html": [
       "<div>\n",
       "<style scoped>\n",
       "    .dataframe tbody tr th:only-of-type {\n",
       "        vertical-align: middle;\n",
       "    }\n",
       "\n",
       "    .dataframe tbody tr th {\n",
       "        vertical-align: top;\n",
       "    }\n",
       "\n",
       "    .dataframe thead th {\n",
       "        text-align: right;\n",
       "    }\n",
       "</style>\n",
       "<table border=\"1\" class=\"dataframe\">\n",
       "  <thead>\n",
       "    <tr style=\"text-align: right;\">\n",
       "      <th></th>\n",
       "      <th>Train_acc</th>\n",
       "      <th>Validation_acc</th>\n",
       "      <th>f1_score</th>\n",
       "      <th>precision</th>\n",
       "      <th>recall</th>\n",
       "      <th>auc</th>\n",
       "    </tr>\n",
       "  </thead>\n",
       "  <tbody>\n",
       "    <tr>\n",
       "      <th>Logistic Regression</th>\n",
       "      <td>0.7264</td>\n",
       "      <td>0.7254</td>\n",
       "      <td>0.7210</td>\n",
       "      <td>0.7329</td>\n",
       "      <td>0.7097</td>\n",
       "      <td>0.8039</td>\n",
       "    </tr>\n",
       "    <tr>\n",
       "      <th>KNN</th>\n",
       "      <td>0.7847</td>\n",
       "      <td>0.6823</td>\n",
       "      <td>0.6861</td>\n",
       "      <td>0.6781</td>\n",
       "      <td>0.6944</td>\n",
       "      <td>0.7387</td>\n",
       "    </tr>\n",
       "    <tr>\n",
       "      <th>Decision Tree</th>\n",
       "      <td>1.0000</td>\n",
       "      <td>0.6456</td>\n",
       "      <td>0.6452</td>\n",
       "      <td>0.6461</td>\n",
       "      <td>0.6445</td>\n",
       "      <td>0.6456</td>\n",
       "    </tr>\n",
       "    <tr>\n",
       "      <th>Random Forest</th>\n",
       "      <td>1.0000</td>\n",
       "      <td>0.7276</td>\n",
       "      <td>0.7273</td>\n",
       "      <td>0.7283</td>\n",
       "      <td>0.7266</td>\n",
       "      <td>0.8061</td>\n",
       "    </tr>\n",
       "    <tr>\n",
       "      <th>XGB</th>\n",
       "      <td>0.9092</td>\n",
       "      <td>0.7179</td>\n",
       "      <td>0.7186</td>\n",
       "      <td>0.7168</td>\n",
       "      <td>0.7205</td>\n",
       "      <td>0.7969</td>\n",
       "    </tr>\n",
       "    <tr>\n",
       "      <th>catboost</th>\n",
       "      <td>0.7822</td>\n",
       "      <td>0.7364</td>\n",
       "      <td>0.7381</td>\n",
       "      <td>0.7332</td>\n",
       "      <td>0.7434</td>\n",
       "      <td>0.8164</td>\n",
       "    </tr>\n",
       "    <tr>\n",
       "      <th>pca_Logistic Regression</th>\n",
       "      <td>0.7194</td>\n",
       "      <td>0.7195</td>\n",
       "      <td>0.7134</td>\n",
       "      <td>0.7294</td>\n",
       "      <td>0.6983</td>\n",
       "      <td>0.7932</td>\n",
       "    </tr>\n",
       "    <tr>\n",
       "      <th>pca_KNN</th>\n",
       "      <td>0.7841</td>\n",
       "      <td>0.6830</td>\n",
       "      <td>0.6875</td>\n",
       "      <td>0.6783</td>\n",
       "      <td>0.6971</td>\n",
       "      <td>0.7368</td>\n",
       "    </tr>\n",
       "    <tr>\n",
       "      <th>pca_Decision Tree</th>\n",
       "      <td>1.0000</td>\n",
       "      <td>0.6275</td>\n",
       "      <td>0.6267</td>\n",
       "      <td>0.6282</td>\n",
       "      <td>0.6253</td>\n",
       "      <td>0.6275</td>\n",
       "    </tr>\n",
       "    <tr>\n",
       "      <th>pca_Random Forest</th>\n",
       "      <td>1.0000</td>\n",
       "      <td>0.7128</td>\n",
       "      <td>0.7173</td>\n",
       "      <td>0.7064</td>\n",
       "      <td>0.7287</td>\n",
       "      <td>0.7885</td>\n",
       "    </tr>\n",
       "    <tr>\n",
       "      <th>pca_XGB</th>\n",
       "      <td>0.9247</td>\n",
       "      <td>0.7072</td>\n",
       "      <td>0.7093</td>\n",
       "      <td>0.7046</td>\n",
       "      <td>0.7143</td>\n",
       "      <td>0.7800</td>\n",
       "    </tr>\n",
       "    <tr>\n",
       "      <th>pca_catboost</th>\n",
       "      <td>0.7867</td>\n",
       "      <td>0.7252</td>\n",
       "      <td>0.7285</td>\n",
       "      <td>0.7200</td>\n",
       "      <td>0.7376</td>\n",
       "      <td>0.7993</td>\n",
       "    </tr>\n",
       "  </tbody>\n",
       "</table>\n",
       "</div>"
      ],
      "text/plain": [
       "                         Train_acc  Validation_acc  f1_score  precision  \\\n",
       "Logistic Regression         0.7264          0.7254    0.7210     0.7329   \n",
       "KNN                         0.7847          0.6823    0.6861     0.6781   \n",
       "Decision Tree               1.0000          0.6456    0.6452     0.6461   \n",
       "Random Forest               1.0000          0.7276    0.7273     0.7283   \n",
       "XGB                         0.9092          0.7179    0.7186     0.7168   \n",
       "catboost                    0.7822          0.7364    0.7381     0.7332   \n",
       "pca_Logistic Regression     0.7194          0.7195    0.7134     0.7294   \n",
       "pca_KNN                     0.7841          0.6830    0.6875     0.6783   \n",
       "pca_Decision Tree           1.0000          0.6275    0.6267     0.6282   \n",
       "pca_Random Forest           1.0000          0.7128    0.7173     0.7064   \n",
       "pca_XGB                     0.9247          0.7072    0.7093     0.7046   \n",
       "pca_catboost                0.7867          0.7252    0.7285     0.7200   \n",
       "\n",
       "                         recall     auc  \n",
       "Logistic Regression      0.7097  0.8039  \n",
       "KNN                      0.6944  0.7387  \n",
       "Decision Tree            0.6445  0.6456  \n",
       "Random Forest            0.7266  0.8061  \n",
       "XGB                      0.7205  0.7969  \n",
       "catboost                 0.7434  0.8164  \n",
       "pca_Logistic Regression  0.6983  0.7932  \n",
       "pca_KNN                  0.6971  0.7368  \n",
       "pca_Decision Tree        0.6253  0.6275  \n",
       "pca_Random Forest        0.7287  0.7885  \n",
       "pca_XGB                  0.7143  0.7800  \n",
       "pca_catboost             0.7376  0.7993  "
      ]
     },
     "execution_count": 154,
     "metadata": {},
     "output_type": "execute_result"
    }
   ],
   "source": [
    "model_results"
   ]
  },
  {
   "cell_type": "markdown",
   "id": "61d68ae6-21f5-4694-b978-fedc79b09743",
   "metadata": {},
   "source": [
    ">**The model performance of all the models is shown above**\n",
    ">**As we can see, catboost, Random Forest and Logistic Regression has the highest validation accuracy.**\n",
    ">**We can also see that, the accuracy of the PCA training set is not much lower than for the model compared to the actual dataset**\n",
    ">**As shown above, the training accuracy of the decision tree and random forest is much higher than of the validation accuracy. So we can say that, these models are overfitting.**"
   ]
  },
  {
   "cell_type": "code",
   "execution_count": 26,
   "id": "3ff28a1a-a19d-45ff-954a-045e688440c6",
   "metadata": {},
   "outputs": [],
   "source": [
    "import tensorflow as tf\n",
    "from tensorflow import keras"
   ]
  },
  {
   "cell_type": "code",
   "execution_count": 106,
   "id": "d3c60753-be5f-4d54-8253-d9e89b863e2f",
   "metadata": {},
   "outputs": [],
   "source": [
    "nn_model = keras.models.Sequential([\n",
    "keras.layers.Flatten(),\n",
    "keras.layers.Dense(300, activation=\"relu\"),\n",
    "keras.layers.Dense(100, activation=\"relu\"),\n",
    "keras.layers.Dense(1, activation=\"sigmoid\")   \n",
    "])\n",
    "nn_model.compile(loss=\"binary_crossentropy\", optimizer=\"adam\", metrics=[\"accuracy\", 'AUC', keras.metrics.Precision(), keras.metrics.Recall()])"
   ]
  },
  {
   "cell_type": "markdown",
   "id": "55009935-84fd-44a2-8d95-34f75071da98",
   "metadata": {},
   "source": [
    ">**Here, we have used the Sequential method to create the Neural Network with 2 hidden layers. We have used Rectified Linear Unit function for the hidden layers and since we are using Neural Network as a binary classifier, we have used the sigmoid activation function for the output layer.**\n",
    "\n",
    ">**For loss function, we have used the binary crossentropy and we have used Adam as the optimizer for our model.**"
   ]
  },
  {
   "cell_type": "code",
   "execution_count": 39,
   "id": "8da27caa-94ff-4158-b47c-4d0d81f19be8",
   "metadata": {},
   "outputs": [],
   "source": [
    "checkpoint_cb = keras.callbacks.ModelCheckpoint(\"keras_model.keras\")\n",
    "early_stopping_cb = keras.callbacks.EarlyStopping(patience=10, restore_best_weights=True)"
   ]
  },
  {
   "cell_type": "code",
   "execution_count": 171,
   "id": "53c5b2e8-453d-4626-909e-a4b74fc2f245",
   "metadata": {},
   "outputs": [],
   "source": [
    "from sklearn.model_selection import StratifiedKFold"
   ]
  },
  {
   "cell_type": "code",
   "execution_count": 201,
   "id": "cd7d8958-3097-4634-9f50-ea2ed46c772b",
   "metadata": {},
   "outputs": [],
   "source": [
    "skf = StratifiedKFold(n_splits=5, shuffle=True, random_state=1)"
   ]
  },
  {
   "cell_type": "code",
   "execution_count": 306,
   "id": "bfccb602-e76a-4b60-8401-947738d5767a",
   "metadata": {},
   "outputs": [],
   "source": [
    "acc = np.array([])\n",
    "val_acc = np.array([])\n",
    "precision = np.array([])\n",
    "recall = np.array([])\n",
    "auc = np.array([])"
   ]
  },
  {
   "cell_type": "code",
   "execution_count": 308,
   "id": "f0855e6b-e695-4c0f-8f71-b02697a025ca",
   "metadata": {},
   "outputs": [
    {
     "name": "stdout",
     "output_type": "stream",
     "text": [
      "Epoch 1/10\n",
      "625/625 [==============================] - 6s 8ms/step - loss: 0.5417 - accuracy: 0.7236 - auc: 0.8004 - precision_13: 0.7179 - recall_13: 0.7368 - val_loss: 0.5291 - val_accuracy: 0.7245 - val_auc: 0.8136 - val_precision_13: 0.6992 - val_recall_13: 0.7880\n",
      "Epoch 2/10\n",
      "625/625 [==============================] - 4s 6ms/step - loss: 0.5224 - accuracy: 0.7332 - auc: 0.8160 - precision_13: 0.7289 - recall_13: 0.7426 - val_loss: 0.5242 - val_accuracy: 0.7358 - val_auc: 0.8177 - val_precision_13: 0.7166 - val_recall_13: 0.7800\n",
      "Epoch 3/10\n",
      "625/625 [==============================] - 4s 6ms/step - loss: 0.5188 - accuracy: 0.7372 - auc: 0.8193 - precision_13: 0.7332 - recall_13: 0.7459 - val_loss: 0.5123 - val_accuracy: 0.7390 - val_auc: 0.8241 - val_precision_13: 0.7487 - val_recall_13: 0.7195\n",
      "Epoch 4/10\n",
      "625/625 [==============================] - 4s 6ms/step - loss: 0.5135 - accuracy: 0.7388 - auc: 0.8229 - precision_13: 0.7363 - recall_13: 0.7443 - val_loss: 0.5112 - val_accuracy: 0.7385 - val_auc: 0.8252 - val_precision_13: 0.7361 - val_recall_13: 0.7435\n",
      "Epoch 5/10\n",
      "625/625 [==============================] - 4s 7ms/step - loss: 0.5092 - accuracy: 0.7437 - auc: 0.8267 - precision_13: 0.7411 - recall_13: 0.7495 - val_loss: 0.5092 - val_accuracy: 0.7433 - val_auc: 0.8257 - val_precision_13: 0.7562 - val_recall_13: 0.7180\n",
      "Epoch 6/10\n",
      "625/625 [==============================] - 4s 7ms/step - loss: 0.5069 - accuracy: 0.7434 - auc: 0.8283 - precision_13: 0.7398 - recall_13: 0.7510 - val_loss: 0.5061 - val_accuracy: 0.7368 - val_auc: 0.8312 - val_precision_13: 0.7113 - val_recall_13: 0.7970\n",
      "Epoch 7/10\n",
      "625/625 [==============================] - 4s 6ms/step - loss: 0.5037 - accuracy: 0.7461 - auc: 0.8306 - precision_13: 0.7426 - recall_13: 0.7534 - val_loss: 0.4979 - val_accuracy: 0.7442 - val_auc: 0.8342 - val_precision_13: 0.7436 - val_recall_13: 0.7455\n",
      "Epoch 8/10\n",
      "625/625 [==============================] - 4s 6ms/step - loss: 0.4988 - accuracy: 0.7505 - auc: 0.8344 - precision_13: 0.7509 - recall_13: 0.7499 - val_loss: 0.4898 - val_accuracy: 0.7533 - val_auc: 0.8419 - val_precision_13: 0.7472 - val_recall_13: 0.7655\n",
      "Epoch 9/10\n",
      "625/625 [==============================] - 4s 6ms/step - loss: 0.4948 - accuracy: 0.7504 - auc: 0.8376 - precision_13: 0.7478 - recall_13: 0.7557 - val_loss: 0.4928 - val_accuracy: 0.7520 - val_auc: 0.8380 - val_precision_13: 0.7548 - val_recall_13: 0.7465\n",
      "Epoch 10/10\n",
      "625/625 [==============================] - 4s 6ms/step - loss: 0.4919 - accuracy: 0.7552 - auc: 0.8394 - precision_13: 0.7524 - recall_13: 0.7609 - val_loss: 0.4761 - val_accuracy: 0.7585 - val_auc: 0.8524 - val_precision_13: 0.7646 - val_recall_13: 0.7470\n",
      "Epoch 1/10\n",
      "625/625 [==============================] - 4s 6ms/step - loss: 0.4864 - accuracy: 0.7586 - auc: 0.8436 - precision_13: 0.7587 - recall_13: 0.7585 - val_loss: 0.4649 - val_accuracy: 0.7697 - val_auc: 0.8588 - val_precision_13: 0.7641 - val_recall_13: 0.7805\n",
      "Epoch 2/10\n",
      "625/625 [==============================] - 4s 6ms/step - loss: 0.4799 - accuracy: 0.7644 - auc: 0.8486 - precision_13: 0.7658 - recall_13: 0.7619 - val_loss: 0.4599 - val_accuracy: 0.7788 - val_auc: 0.8672 - val_precision_13: 0.7563 - val_recall_13: 0.8225\n",
      "Epoch 3/10\n",
      "625/625 [==============================] - 4s 6ms/step - loss: 0.4757 - accuracy: 0.7654 - auc: 0.8513 - precision_13: 0.7656 - recall_13: 0.7651 - val_loss: 0.4499 - val_accuracy: 0.7810 - val_auc: 0.8719 - val_precision_13: 0.7573 - val_recall_13: 0.8270\n",
      "Epoch 4/10\n",
      "625/625 [==============================] - 4s 6ms/step - loss: 0.4675 - accuracy: 0.7678 - auc: 0.8568 - precision_13: 0.7698 - recall_13: 0.7644 - val_loss: 0.4440 - val_accuracy: 0.7925 - val_auc: 0.8769 - val_precision_13: 0.7893 - val_recall_13: 0.7980\n",
      "Epoch 5/10\n",
      "625/625 [==============================] - 4s 6ms/step - loss: 0.4618 - accuracy: 0.7739 - auc: 0.8610 - precision_13: 0.7771 - recall_13: 0.7684 - val_loss: 0.4326 - val_accuracy: 0.7960 - val_auc: 0.8815 - val_precision_13: 0.8142 - val_recall_13: 0.7670\n",
      "Epoch 6/10\n",
      "625/625 [==============================] - 4s 6ms/step - loss: 0.4552 - accuracy: 0.7768 - auc: 0.8652 - precision_13: 0.7800 - recall_13: 0.7711 - val_loss: 0.4365 - val_accuracy: 0.7910 - val_auc: 0.8796 - val_precision_13: 0.7850 - val_recall_13: 0.8015\n",
      "Epoch 7/10\n",
      "625/625 [==============================] - 4s 6ms/step - loss: 0.4479 - accuracy: 0.7839 - auc: 0.8700 - precision_13: 0.7870 - recall_13: 0.7785 - val_loss: 0.4190 - val_accuracy: 0.7993 - val_auc: 0.8908 - val_precision_13: 0.7918 - val_recall_13: 0.8120\n",
      "Epoch 8/10\n",
      "625/625 [==============================] - 4s 6ms/step - loss: 0.4393 - accuracy: 0.7876 - auc: 0.8754 - precision_13: 0.7915 - recall_13: 0.7810 - val_loss: 0.4135 - val_accuracy: 0.8040 - val_auc: 0.8946 - val_precision_13: 0.7857 - val_recall_13: 0.8360\n",
      "Epoch 9/10\n",
      "625/625 [==============================] - 4s 6ms/step - loss: 0.4316 - accuracy: 0.7943 - auc: 0.8804 - precision_13: 0.7971 - recall_13: 0.7896 - val_loss: 0.4090 - val_accuracy: 0.8073 - val_auc: 0.8949 - val_precision_13: 0.8397 - val_recall_13: 0.7595\n",
      "Epoch 10/10\n",
      "625/625 [==============================] - 4s 6ms/step - loss: 0.4245 - accuracy: 0.7962 - auc: 0.8843 - precision_13: 0.8011 - recall_13: 0.7880 - val_loss: 0.3952 - val_accuracy: 0.8180 - val_auc: 0.9064 - val_precision_13: 0.8093 - val_recall_13: 0.8320\n",
      "Epoch 1/10\n",
      "625/625 [==============================] - 4s 6ms/step - loss: 0.4134 - accuracy: 0.8038 - auc: 0.8911 - precision_13: 0.8085 - recall_13: 0.7962 - val_loss: 0.3958 - val_accuracy: 0.8200 - val_auc: 0.9035 - val_precision_13: 0.8269 - val_recall_13: 0.8095\n",
      "Epoch 2/10\n",
      "625/625 [==============================] - 4s 6ms/step - loss: 0.4060 - accuracy: 0.8101 - auc: 0.8953 - precision_13: 0.8142 - recall_13: 0.8037 - val_loss: 0.3831 - val_accuracy: 0.8188 - val_auc: 0.9095 - val_precision_13: 0.8180 - val_recall_13: 0.8200\n",
      "Epoch 3/10\n",
      "625/625 [==============================] - 4s 7ms/step - loss: 0.3976 - accuracy: 0.8105 - auc: 0.8999 - precision_13: 0.8144 - recall_13: 0.8043 - val_loss: 0.3732 - val_accuracy: 0.8325 - val_auc: 0.9152 - val_precision_13: 0.8376 - val_recall_13: 0.8250\n",
      "Epoch 4/10\n",
      "625/625 [==============================] - 4s 7ms/step - loss: 0.3862 - accuracy: 0.8191 - auc: 0.9059 - precision_13: 0.8257 - recall_13: 0.8092 - val_loss: 0.3661 - val_accuracy: 0.8317 - val_auc: 0.9180 - val_precision_13: 0.8293 - val_recall_13: 0.8355\n",
      "Epoch 5/10\n",
      "625/625 [==============================] - 4s 6ms/step - loss: 0.3780 - accuracy: 0.8243 - auc: 0.9102 - precision_13: 0.8308 - recall_13: 0.8147 - val_loss: 0.3498 - val_accuracy: 0.8375 - val_auc: 0.9267 - val_precision_13: 0.8368 - val_recall_13: 0.8385\n",
      "Epoch 6/10\n",
      "625/625 [==============================] - 4s 6ms/step - loss: 0.3682 - accuracy: 0.8297 - auc: 0.9154 - precision_13: 0.8368 - recall_13: 0.8192 - val_loss: 0.3426 - val_accuracy: 0.8520 - val_auc: 0.9321 - val_precision_13: 0.8588 - val_recall_13: 0.8425\n",
      "Epoch 7/10\n",
      "625/625 [==============================] - 4s 6ms/step - loss: 0.3599 - accuracy: 0.8338 - auc: 0.9190 - precision_13: 0.8402 - recall_13: 0.8245 - val_loss: 0.3347 - val_accuracy: 0.8465 - val_auc: 0.9330 - val_precision_13: 0.8493 - val_recall_13: 0.8425\n",
      "Epoch 8/10\n",
      "625/625 [==============================] - 4s 7ms/step - loss: 0.3503 - accuracy: 0.8390 - auc: 0.9237 - precision_13: 0.8460 - recall_13: 0.8289 - val_loss: 0.3345 - val_accuracy: 0.8455 - val_auc: 0.9340 - val_precision_13: 0.8281 - val_recall_13: 0.8720\n",
      "Epoch 9/10\n",
      "625/625 [==============================] - 3s 5ms/step - loss: 0.3405 - accuracy: 0.8459 - auc: 0.9284 - precision_13: 0.8539 - recall_13: 0.8347 - val_loss: 0.3175 - val_accuracy: 0.8568 - val_auc: 0.9409 - val_precision_13: 0.8931 - val_recall_13: 0.8105\n",
      "Epoch 10/10\n",
      "625/625 [==============================] - 4s 6ms/step - loss: 0.3284 - accuracy: 0.8506 - auc: 0.9339 - precision_13: 0.8567 - recall_13: 0.8421 - val_loss: 0.3017 - val_accuracy: 0.8692 - val_auc: 0.9475 - val_precision_13: 0.8977 - val_recall_13: 0.8335\n",
      "Epoch 1/10\n",
      "625/625 [==============================] - 4s 6ms/step - loss: 0.3234 - accuracy: 0.8561 - auc: 0.9360 - precision_13: 0.8640 - recall_13: 0.8451 - val_loss: 0.2931 - val_accuracy: 0.8687 - val_auc: 0.9481 - val_precision_13: 0.8735 - val_recall_13: 0.8626\n",
      "Epoch 2/10\n",
      "625/625 [==============================] - 4s 6ms/step - loss: 0.3138 - accuracy: 0.8606 - auc: 0.9397 - precision_13: 0.8688 - recall_13: 0.8495 - val_loss: 0.2814 - val_accuracy: 0.8800 - val_auc: 0.9548 - val_precision_13: 0.8922 - val_recall_13: 0.8646\n",
      "Epoch 3/10\n",
      "625/625 [==============================] - 4s 6ms/step - loss: 0.3039 - accuracy: 0.8666 - auc: 0.9445 - precision_13: 0.8748 - recall_13: 0.8556 - val_loss: 0.2774 - val_accuracy: 0.8860 - val_auc: 0.9548 - val_precision_13: 0.9064 - val_recall_13: 0.8611\n",
      "Epoch 4/10\n",
      "625/625 [==============================] - 4s 6ms/step - loss: 0.2949 - accuracy: 0.8685 - auc: 0.9472 - precision_13: 0.8760 - recall_13: 0.8586 - val_loss: 0.2635 - val_accuracy: 0.8870 - val_auc: 0.9607 - val_precision_13: 0.8700 - val_recall_13: 0.9100\n",
      "Epoch 5/10\n",
      "625/625 [==============================] - 4s 6ms/step - loss: 0.2864 - accuracy: 0.8743 - auc: 0.9507 - precision_13: 0.8814 - recall_13: 0.8650 - val_loss: 0.2578 - val_accuracy: 0.8892 - val_auc: 0.9625 - val_precision_13: 0.8926 - val_recall_13: 0.8851\n",
      "Epoch 6/10\n",
      "625/625 [==============================] - 4s 6ms/step - loss: 0.2780 - accuracy: 0.8777 - auc: 0.9537 - precision_13: 0.8844 - recall_13: 0.8690 - val_loss: 0.2546 - val_accuracy: 0.8975 - val_auc: 0.9612 - val_precision_13: 0.8995 - val_recall_13: 0.8951\n",
      "Epoch 7/10\n",
      "625/625 [==============================] - 4s 6ms/step - loss: 0.2725 - accuracy: 0.8823 - auc: 0.9553 - precision_13: 0.8887 - recall_13: 0.8741 - val_loss: 0.2530 - val_accuracy: 0.8972 - val_auc: 0.9690 - val_precision_13: 0.9383 - val_recall_13: 0.8506\n",
      "Epoch 8/10\n",
      "625/625 [==============================] - 4s 6ms/step - loss: 0.2592 - accuracy: 0.8884 - auc: 0.9602 - precision_13: 0.8962 - recall_13: 0.8785 - val_loss: 0.2350 - val_accuracy: 0.9045 - val_auc: 0.9690 - val_precision_13: 0.9245 - val_recall_13: 0.8811\n",
      "Epoch 9/10\n",
      "625/625 [==============================] - 4s 6ms/step - loss: 0.2525 - accuracy: 0.8931 - auc: 0.9623 - precision_13: 0.9008 - recall_13: 0.8836 - val_loss: 0.2256 - val_accuracy: 0.9105 - val_auc: 0.9724 - val_precision_13: 0.9372 - val_recall_13: 0.8801\n",
      "Epoch 10/10\n",
      "625/625 [==============================] - 4s 6ms/step - loss: 0.2461 - accuracy: 0.8945 - auc: 0.9643 - precision_13: 0.9013 - recall_13: 0.8860 - val_loss: 0.2061 - val_accuracy: 0.9197 - val_auc: 0.9792 - val_precision_13: 0.9251 - val_recall_13: 0.9135\n",
      "Epoch 1/10\n",
      "625/625 [==============================] - 4s 6ms/step - loss: 0.2371 - accuracy: 0.8987 - auc: 0.9671 - precision_13: 0.9046 - recall_13: 0.8914 - val_loss: 0.2115 - val_accuracy: 0.9153 - val_auc: 0.9759 - val_precision_13: 0.9223 - val_recall_13: 0.9070\n",
      "Epoch 2/10\n",
      "625/625 [==============================] - 4s 6ms/step - loss: 0.2299 - accuracy: 0.9025 - auc: 0.9692 - precision_13: 0.9089 - recall_13: 0.8946 - val_loss: 0.2091 - val_accuracy: 0.9110 - val_auc: 0.9752 - val_precision_13: 0.9350 - val_recall_13: 0.8836\n",
      "Epoch 3/10\n",
      "625/625 [==============================] - 4s 6ms/step - loss: 0.2245 - accuracy: 0.9046 - auc: 0.9704 - precision_13: 0.9113 - recall_13: 0.8966 - val_loss: 0.2054 - val_accuracy: 0.9183 - val_auc: 0.9783 - val_precision_13: 0.9040 - val_recall_13: 0.9360\n",
      "Epoch 4/10\n",
      "625/625 [==============================] - 4s 6ms/step - loss: 0.2164 - accuracy: 0.9102 - auc: 0.9727 - precision_13: 0.9176 - recall_13: 0.9014 - val_loss: 0.2039 - val_accuracy: 0.9160 - val_auc: 0.9776 - val_precision_13: 0.9051 - val_recall_13: 0.9295\n",
      "Epoch 5/10\n",
      "625/625 [==============================] - 4s 6ms/step - loss: 0.2092 - accuracy: 0.9140 - auc: 0.9747 - precision_13: 0.9201 - recall_13: 0.9067 - val_loss: 0.1901 - val_accuracy: 0.9233 - val_auc: 0.9813 - val_precision_13: 0.9168 - val_recall_13: 0.9310\n",
      "Epoch 6/10\n",
      "625/625 [==============================] - 4s 6ms/step - loss: 0.2049 - accuracy: 0.9155 - auc: 0.9757 - precision_13: 0.9229 - recall_13: 0.9069 - val_loss: 0.1796 - val_accuracy: 0.9220 - val_auc: 0.9824 - val_precision_13: 0.9146 - val_recall_13: 0.9310\n",
      "Epoch 7/10\n",
      "625/625 [==============================] - 4s 6ms/step - loss: 0.1953 - accuracy: 0.9202 - auc: 0.9782 - precision_13: 0.9245 - recall_13: 0.9151 - val_loss: 0.1723 - val_accuracy: 0.9360 - val_auc: 0.9841 - val_precision_13: 0.9514 - val_recall_13: 0.9190\n",
      "Epoch 8/10\n",
      "625/625 [==============================] - 4s 6ms/step - loss: 0.1951 - accuracy: 0.9175 - auc: 0.9781 - precision_13: 0.9258 - recall_13: 0.9077 - val_loss: 0.1762 - val_accuracy: 0.9302 - val_auc: 0.9831 - val_precision_13: 0.9233 - val_recall_13: 0.9385\n",
      "Epoch 9/10\n",
      "625/625 [==============================] - 4s 6ms/step - loss: 0.1857 - accuracy: 0.9228 - auc: 0.9804 - precision_13: 0.9278 - recall_13: 0.9170 - val_loss: 0.1552 - val_accuracy: 0.9383 - val_auc: 0.9881 - val_precision_13: 0.9303 - val_recall_13: 0.9475\n",
      "Epoch 10/10\n",
      "625/625 [==============================] - 4s 6ms/step - loss: 0.1757 - accuracy: 0.9285 - auc: 0.9826 - precision_13: 0.9327 - recall_13: 0.9237 - val_loss: 0.1635 - val_accuracy: 0.9408 - val_auc: 0.9858 - val_precision_13: 0.9441 - val_recall_13: 0.9370\n"
     ]
    }
   ],
   "source": [
    "for train_index, test_index in skf.split(dff, y_dff):\n",
    "    x_train_fold, x_test_fold = dff[train_index], dff[test_index]\n",
    "    y_train_fold, y_test_fold = y_dff[train_index], y_dff[test_index]\n",
    "    history = nn_model.fit(dff, y_dff, epochs=10, batch_size=32, validation_data=(x_test_fold, y_test_fold), callbacks=[early_stopping_cb])\n",
    "    \n",
    "    acc = np.append(acc, history.history['accuracy'])\n",
    "    val_acc = np.append(val_acc, history.history['val_accuracy'])\n",
    "    precision = np.append(precision, history.history['val_precision_13'])\n",
    "    recall = np.append(recall, history.history['val_recall_13'])\n",
    "    auc = np.append(auc, history.history['val_auc'])"
   ]
  },
  {
   "cell_type": "code",
   "execution_count": 325,
   "id": "4c0994d4-f62a-47de-a0b8-81d591d7ba21",
   "metadata": {},
   "outputs": [],
   "source": [
    "pre, re = precision.mean(), recall.mean()\n",
    "model_results.loc['NN'] = [round(acc.mean(), 4), round(val_acc.mean(), 4), round(2*(pre*re)/(pre+re),4), round(pre, 4), round(re, 4), round(auc.mean(), 4)]"
   ]
  },
  {
   "cell_type": "code",
   "execution_count": 326,
   "id": "f93e7865-1082-4c0c-86bf-4396123f76dd",
   "metadata": {},
   "outputs": [
    {
     "data": {
      "text/html": [
       "<div>\n",
       "<style scoped>\n",
       "    .dataframe tbody tr th:only-of-type {\n",
       "        vertical-align: middle;\n",
       "    }\n",
       "\n",
       "    .dataframe tbody tr th {\n",
       "        vertical-align: top;\n",
       "    }\n",
       "\n",
       "    .dataframe thead th {\n",
       "        text-align: right;\n",
       "    }\n",
       "</style>\n",
       "<table border=\"1\" class=\"dataframe\">\n",
       "  <thead>\n",
       "    <tr style=\"text-align: right;\">\n",
       "      <th></th>\n",
       "      <th>Train_acc</th>\n",
       "      <th>Validation_acc</th>\n",
       "      <th>f1_score</th>\n",
       "      <th>precision</th>\n",
       "      <th>recall</th>\n",
       "      <th>auc</th>\n",
       "    </tr>\n",
       "  </thead>\n",
       "  <tbody>\n",
       "    <tr>\n",
       "      <th>Logistic Regression</th>\n",
       "      <td>0.7264</td>\n",
       "      <td>0.7254</td>\n",
       "      <td>0.7210</td>\n",
       "      <td>0.7329</td>\n",
       "      <td>0.7097</td>\n",
       "      <td>0.8039</td>\n",
       "    </tr>\n",
       "    <tr>\n",
       "      <th>KNN</th>\n",
       "      <td>0.7847</td>\n",
       "      <td>0.6823</td>\n",
       "      <td>0.6861</td>\n",
       "      <td>0.6781</td>\n",
       "      <td>0.6944</td>\n",
       "      <td>0.7387</td>\n",
       "    </tr>\n",
       "    <tr>\n",
       "      <th>Decision Tree</th>\n",
       "      <td>1.0000</td>\n",
       "      <td>0.6456</td>\n",
       "      <td>0.6452</td>\n",
       "      <td>0.6461</td>\n",
       "      <td>0.6445</td>\n",
       "      <td>0.6456</td>\n",
       "    </tr>\n",
       "    <tr>\n",
       "      <th>Random Forest</th>\n",
       "      <td>1.0000</td>\n",
       "      <td>0.7276</td>\n",
       "      <td>0.7273</td>\n",
       "      <td>0.7283</td>\n",
       "      <td>0.7266</td>\n",
       "      <td>0.8061</td>\n",
       "    </tr>\n",
       "    <tr>\n",
       "      <th>XGB</th>\n",
       "      <td>0.9092</td>\n",
       "      <td>0.7179</td>\n",
       "      <td>0.7186</td>\n",
       "      <td>0.7168</td>\n",
       "      <td>0.7205</td>\n",
       "      <td>0.7969</td>\n",
       "    </tr>\n",
       "    <tr>\n",
       "      <th>catboost</th>\n",
       "      <td>0.7822</td>\n",
       "      <td>0.7364</td>\n",
       "      <td>0.7381</td>\n",
       "      <td>0.7332</td>\n",
       "      <td>0.7434</td>\n",
       "      <td>0.8164</td>\n",
       "    </tr>\n",
       "    <tr>\n",
       "      <th>pca_Logistic Regression</th>\n",
       "      <td>0.7194</td>\n",
       "      <td>0.7195</td>\n",
       "      <td>0.7134</td>\n",
       "      <td>0.7294</td>\n",
       "      <td>0.6983</td>\n",
       "      <td>0.7932</td>\n",
       "    </tr>\n",
       "    <tr>\n",
       "      <th>pca_KNN</th>\n",
       "      <td>0.7841</td>\n",
       "      <td>0.6830</td>\n",
       "      <td>0.6875</td>\n",
       "      <td>0.6783</td>\n",
       "      <td>0.6971</td>\n",
       "      <td>0.7368</td>\n",
       "    </tr>\n",
       "    <tr>\n",
       "      <th>pca_Decision Tree</th>\n",
       "      <td>1.0000</td>\n",
       "      <td>0.6275</td>\n",
       "      <td>0.6267</td>\n",
       "      <td>0.6282</td>\n",
       "      <td>0.6253</td>\n",
       "      <td>0.6275</td>\n",
       "    </tr>\n",
       "    <tr>\n",
       "      <th>pca_Random Forest</th>\n",
       "      <td>1.0000</td>\n",
       "      <td>0.7128</td>\n",
       "      <td>0.7173</td>\n",
       "      <td>0.7064</td>\n",
       "      <td>0.7287</td>\n",
       "      <td>0.7885</td>\n",
       "    </tr>\n",
       "    <tr>\n",
       "      <th>pca_XGB</th>\n",
       "      <td>0.9247</td>\n",
       "      <td>0.7072</td>\n",
       "      <td>0.7093</td>\n",
       "      <td>0.7046</td>\n",
       "      <td>0.7143</td>\n",
       "      <td>0.7800</td>\n",
       "    </tr>\n",
       "    <tr>\n",
       "      <th>pca_catboost</th>\n",
       "      <td>0.8345</td>\n",
       "      <td>0.7248</td>\n",
       "      <td>0.7282</td>\n",
       "      <td>0.7195</td>\n",
       "      <td>0.7374</td>\n",
       "      <td>0.7991</td>\n",
       "    </tr>\n",
       "    <tr>\n",
       "      <th>NN</th>\n",
       "      <td>0.8271</td>\n",
       "      <td>0.8393</td>\n",
       "      <td>0.8403</td>\n",
       "      <td>0.8411</td>\n",
       "      <td>0.8396</td>\n",
       "      <td>0.9166</td>\n",
       "    </tr>\n",
       "  </tbody>\n",
       "</table>\n",
       "</div>"
      ],
      "text/plain": [
       "                         Train_acc  Validation_acc  f1_score  precision  \\\n",
       "Logistic Regression         0.7264          0.7254    0.7210     0.7329   \n",
       "KNN                         0.7847          0.6823    0.6861     0.6781   \n",
       "Decision Tree               1.0000          0.6456    0.6452     0.6461   \n",
       "Random Forest               1.0000          0.7276    0.7273     0.7283   \n",
       "XGB                         0.9092          0.7179    0.7186     0.7168   \n",
       "catboost                    0.7822          0.7364    0.7381     0.7332   \n",
       "pca_Logistic Regression     0.7194          0.7195    0.7134     0.7294   \n",
       "pca_KNN                     0.7841          0.6830    0.6875     0.6783   \n",
       "pca_Decision Tree           1.0000          0.6275    0.6267     0.6282   \n",
       "pca_Random Forest           1.0000          0.7128    0.7173     0.7064   \n",
       "pca_XGB                     0.9247          0.7072    0.7093     0.7046   \n",
       "pca_catboost                0.8345          0.7248    0.7282     0.7195   \n",
       "NN                          0.8271          0.8393    0.8403     0.8411   \n",
       "\n",
       "                         recall     auc  \n",
       "Logistic Regression      0.7097  0.8039  \n",
       "KNN                      0.6944  0.7387  \n",
       "Decision Tree            0.6445  0.6456  \n",
       "Random Forest            0.7266  0.8061  \n",
       "XGB                      0.7205  0.7969  \n",
       "catboost                 0.7434  0.8164  \n",
       "pca_Logistic Regression  0.6983  0.7932  \n",
       "pca_KNN                  0.6971  0.7368  \n",
       "pca_Decision Tree        0.6253  0.6275  \n",
       "pca_Random Forest        0.7287  0.7885  \n",
       "pca_XGB                  0.7143  0.7800  \n",
       "pca_catboost             0.7374  0.7991  \n",
       "NN                       0.8396  0.9166  "
      ]
     },
     "execution_count": 326,
     "metadata": {},
     "output_type": "execute_result"
    }
   ],
   "source": [
    "model_results"
   ]
  },
  {
   "cell_type": "code",
   "execution_count": 342,
   "id": "a4636fa7-fe7f-4aa9-88c9-a40d19ccec02",
   "metadata": {},
   "outputs": [],
   "source": [
    "model_dict = {\n",
    "    'Logistic Regression':  {\n",
    "        'model': LogisticRegression(random_state=22, n_jobs=-1),\n",
    "        'params': {'solver': ['liblinear'], 'C': np.logspace(-4, 4, 20), 'penalty': ['l2']}\n",
    "    },\n",
    "    'Random Forest': {\n",
    "        'model': RandomForestClassifier(random_state=22, n_jobs=-1),\n",
    "        'params': {'n_estimators': list(range(10, 100, 10)), 'max_depth': list(range(1, 20, 5)), \n",
    "                    'min_samples_split': [2, 5, 8]},\n",
    "    },\n",
    "    'Catboost': {\n",
    "        'model': CatBoostClassifier(random_state=22, verbose=False),\n",
    "        'params': {'n_estimators': list(range(10,100,10)),'max_depth': list(range(1, 20, 5)), \n",
    "                   'learning_rate': [0.01, 0.03, 0.05, 0.08, 0.1]}\n",
    "        \n",
    "    },\n",
    "}"
   ]
  },
  {
   "cell_type": "code",
   "execution_count": 337,
   "id": "443333c9-d32d-4c5d-bded-7d62e0fa57b6",
   "metadata": {},
   "outputs": [],
   "source": [
    "from sklearn.model_selection import RandomizedSearchCV\n",
    "import math"
   ]
  },
  {
   "cell_type": "code",
   "execution_count": 343,
   "id": "cabf4f40-a19b-48cb-a09d-0cb93fabb5b8",
   "metadata": {},
   "outputs": [],
   "source": [
    "def hyperparameter_tuning():\n",
    "    \n",
    "    best_model = None\n",
    "    best_score = -math.inf\n",
    "    \n",
    "    for model_name, clasi_model in model_dict.items():\n",
    "        \n",
    "        hyper_tuning_model = RandomizedSearchCV(clasi_model['model'], clasi_model['params'], n_iter=10, cv=5, return_train_score=True, verbose=2, scoring=score_type, refit=\"accuracy\")\n",
    "        hyper_tuning_model.fit(x_train_scaled, y_train)\n",
    "        \n",
    "        model_res = hyper_tuning_model.best_estimator_\n",
    "        best_model_score = hyper_tuning_model.best_score_\n",
    "        \n",
    "        res = hyper_tuning_model.cv_results_\n",
    "        \n",
    "        print(model_name, \" :: \", best_model_score, hyper_tuning_model.best_params_)\n",
    "        \n",
    "        if best_model_score > best_score:\n",
    "            best_score = best_model_score\n",
    "            best_model = model_res\n",
    "\n",
    "    print(\"Best Model :: \", best_model)\n",
    "    \n",
    "    return best_model"
   ]
  },
  {
   "cell_type": "code",
   "execution_count": 346,
   "id": "ce40d273-b3e1-45b8-9957-658cce599b5c",
   "metadata": {},
   "outputs": [],
   "source": [
    "import warnings\n",
    "warnings.filterwarnings('ignore')"
   ]
  },
  {
   "cell_type": "code",
   "execution_count": 347,
   "id": "ecec9f92-9c09-4034-9d10-130b37787b5e",
   "metadata": {},
   "outputs": [
    {
     "name": "stdout",
     "output_type": "stream",
     "text": [
      "Fitting 5 folds for each of 10 candidates, totalling 50 fits\n",
      "[CV] END ..C=78.47599703514607, penalty=l2, solver=liblinear; total time=   4.8s\n",
      "[CV] END ..C=78.47599703514607, penalty=l2, solver=liblinear; total time=   4.3s\n",
      "[CV] END ..C=78.47599703514607, penalty=l2, solver=liblinear; total time=   4.3s\n",
      "[CV] END ..C=78.47599703514607, penalty=l2, solver=liblinear; total time=   3.9s\n",
      "[CV] END ..C=78.47599703514607, penalty=l2, solver=liblinear; total time=   4.0s\n",
      "[CV] END ..C=0.615848211066026, penalty=l2, solver=liblinear; total time=   3.9s\n",
      "[CV] END ..C=0.615848211066026, penalty=l2, solver=liblinear; total time=   3.9s\n",
      "[CV] END ..C=0.615848211066026, penalty=l2, solver=liblinear; total time=   3.9s\n",
      "[CV] END ..C=0.615848211066026, penalty=l2, solver=liblinear; total time=   5.5s\n",
      "[CV] END ..C=0.615848211066026, penalty=l2, solver=liblinear; total time=   4.4s\n",
      "[CV] END ..C=4.281332398719396, penalty=l2, solver=liblinear; total time=   4.5s\n",
      "[CV] END ..C=4.281332398719396, penalty=l2, solver=liblinear; total time=   4.4s\n",
      "[CV] END ..C=4.281332398719396, penalty=l2, solver=liblinear; total time=   4.4s\n",
      "[CV] END ..C=4.281332398719396, penalty=l2, solver=liblinear; total time=   4.0s\n",
      "[CV] END ..C=4.281332398719396, penalty=l2, solver=liblinear; total time=   4.1s\n",
      "[CV] END C=0.03359818286283781, penalty=l2, solver=liblinear; total time=   4.0s\n",
      "[CV] END C=0.03359818286283781, penalty=l2, solver=liblinear; total time=   3.9s\n",
      "[CV] END C=0.03359818286283781, penalty=l2, solver=liblinear; total time=   3.7s\n",
      "[CV] END C=0.03359818286283781, penalty=l2, solver=liblinear; total time=   3.8s\n",
      "[CV] END C=0.03359818286283781, penalty=l2, solver=liblinear; total time=   3.9s\n",
      "[CV] END ...C=1438.44988828766, penalty=l2, solver=liblinear; total time=   3.7s\n",
      "[CV] END ...C=1438.44988828766, penalty=l2, solver=liblinear; total time=   3.8s\n",
      "[CV] END ...C=1438.44988828766, penalty=l2, solver=liblinear; total time=   3.8s\n",
      "[CV] END ...C=1438.44988828766, penalty=l2, solver=liblinear; total time=   3.8s\n",
      "[CV] END ...C=1438.44988828766, penalty=l2, solver=liblinear; total time=   3.8s\n",
      "[CV] END C=0.0018329807108324356, penalty=l2, solver=liblinear; total time=   3.7s\n",
      "[CV] END C=0.0018329807108324356, penalty=l2, solver=liblinear; total time=   5.1s\n",
      "[CV] END C=0.0018329807108324356, penalty=l2, solver=liblinear; total time=   4.9s\n",
      "[CV] END C=0.0018329807108324356, penalty=l2, solver=liblinear; total time=   4.1s\n",
      "[CV] END C=0.0018329807108324356, penalty=l2, solver=liblinear; total time=   3.8s\n",
      "[CV] END ............C=10000.0, penalty=l2, solver=liblinear; total time=   3.9s\n",
      "[CV] END ............C=10000.0, penalty=l2, solver=liblinear; total time=   4.0s\n",
      "[CV] END ............C=10000.0, penalty=l2, solver=liblinear; total time=   3.7s\n",
      "[CV] END ............C=10000.0, penalty=l2, solver=liblinear; total time=   3.7s\n",
      "[CV] END ............C=10000.0, penalty=l2, solver=liblinear; total time=   3.8s\n",
      "[CV] END C=0.08858667904100823, penalty=l2, solver=liblinear; total time=   3.7s\n",
      "[CV] END C=0.08858667904100823, penalty=l2, solver=liblinear; total time=   4.0s\n",
      "[CV] END C=0.08858667904100823, penalty=l2, solver=liblinear; total time=   4.3s\n",
      "[CV] END C=0.08858667904100823, penalty=l2, solver=liblinear; total time=   3.7s\n",
      "[CV] END C=0.08858667904100823, penalty=l2, solver=liblinear; total time=   3.8s\n",
      "[CV] END C=0.23357214690901212, penalty=l2, solver=liblinear; total time=   3.7s\n",
      "[CV] END C=0.23357214690901212, penalty=l2, solver=liblinear; total time=   4.4s\n",
      "[CV] END C=0.23357214690901212, penalty=l2, solver=liblinear; total time=   4.2s\n",
      "[CV] END C=0.23357214690901212, penalty=l2, solver=liblinear; total time=   3.7s\n",
      "[CV] END C=0.23357214690901212, penalty=l2, solver=liblinear; total time=   3.8s\n",
      "[CV] END C=0.012742749857031334, penalty=l2, solver=liblinear; total time=   4.5s\n",
      "[CV] END C=0.012742749857031334, penalty=l2, solver=liblinear; total time=   4.2s\n",
      "[CV] END C=0.012742749857031334, penalty=l2, solver=liblinear; total time=   4.2s\n",
      "[CV] END C=0.012742749857031334, penalty=l2, solver=liblinear; total time=   3.8s\n",
      "[CV] END C=0.012742749857031334, penalty=l2, solver=liblinear; total time=   3.8s\n",
      "Logistic Regression  ::  0.7254361490804928 {'solver': 'liblinear', 'penalty': 'l2', 'C': 1438.44988828766}\n",
      "Fitting 5 folds for each of 10 candidates, totalling 50 fits\n",
      "[CV] END .max_depth=11, min_samples_split=8, n_estimators=10; total time=   4.3s\n",
      "[CV] END .max_depth=11, min_samples_split=8, n_estimators=10; total time=   3.8s\n",
      "[CV] END .max_depth=11, min_samples_split=8, n_estimators=10; total time=   3.9s\n",
      "[CV] END .max_depth=11, min_samples_split=8, n_estimators=10; total time=   4.3s\n",
      "[CV] END .max_depth=11, min_samples_split=8, n_estimators=10; total time=   3.9s\n",
      "[CV] END ..max_depth=6, min_samples_split=8, n_estimators=40; total time=  11.7s\n",
      "[CV] END ..max_depth=6, min_samples_split=8, n_estimators=40; total time=  11.6s\n",
      "[CV] END ..max_depth=6, min_samples_split=8, n_estimators=40; total time=  11.7s\n",
      "[CV] END ..max_depth=6, min_samples_split=8, n_estimators=40; total time=  11.6s\n",
      "[CV] END ..max_depth=6, min_samples_split=8, n_estimators=40; total time=  13.2s\n",
      "[CV] END ..max_depth=1, min_samples_split=5, n_estimators=40; total time=   3.8s\n",
      "[CV] END ..max_depth=1, min_samples_split=5, n_estimators=40; total time=   3.8s\n",
      "[CV] END ..max_depth=1, min_samples_split=5, n_estimators=40; total time=   3.9s\n",
      "[CV] END ..max_depth=1, min_samples_split=5, n_estimators=40; total time=   3.8s\n",
      "[CV] END ..max_depth=1, min_samples_split=5, n_estimators=40; total time=   3.8s\n",
      "[CV] END ..max_depth=1, min_samples_split=2, n_estimators=60; total time=   5.4s\n",
      "[CV] END ..max_depth=1, min_samples_split=2, n_estimators=60; total time=   5.4s\n",
      "[CV] END ..max_depth=1, min_samples_split=2, n_estimators=60; total time=   5.3s\n",
      "[CV] END ..max_depth=1, min_samples_split=2, n_estimators=60; total time=   5.3s\n",
      "[CV] END ..max_depth=1, min_samples_split=2, n_estimators=60; total time=   5.5s\n",
      "[CV] END .max_depth=16, min_samples_split=5, n_estimators=30; total time=  12.0s\n",
      "[CV] END .max_depth=16, min_samples_split=5, n_estimators=30; total time=  12.0s\n",
      "[CV] END .max_depth=16, min_samples_split=5, n_estimators=30; total time=  12.0s\n",
      "[CV] END .max_depth=16, min_samples_split=5, n_estimators=30; total time=  11.9s\n",
      "[CV] END .max_depth=16, min_samples_split=5, n_estimators=30; total time=  12.0s\n",
      "[CV] END .max_depth=11, min_samples_split=8, n_estimators=30; total time=  10.7s\n",
      "[CV] END .max_depth=11, min_samples_split=8, n_estimators=30; total time=  12.4s\n",
      "[CV] END .max_depth=11, min_samples_split=8, n_estimators=30; total time=  12.8s\n",
      "[CV] END .max_depth=11, min_samples_split=8, n_estimators=30; total time=  12.5s\n",
      "[CV] END .max_depth=11, min_samples_split=8, n_estimators=30; total time=  11.0s\n",
      "[CV] END ..max_depth=6, min_samples_split=2, n_estimators=50; total time=  14.4s\n",
      "[CV] END ..max_depth=6, min_samples_split=2, n_estimators=50; total time=  14.1s\n",
      "[CV] END ..max_depth=6, min_samples_split=2, n_estimators=50; total time=  14.4s\n",
      "[CV] END ..max_depth=6, min_samples_split=2, n_estimators=50; total time=  14.2s\n",
      "[CV] END ..max_depth=6, min_samples_split=2, n_estimators=50; total time=  14.1s\n",
      "[CV] END .max_depth=11, min_samples_split=8, n_estimators=20; total time=   7.2s\n",
      "[CV] END .max_depth=11, min_samples_split=8, n_estimators=20; total time=   7.1s\n",
      "[CV] END .max_depth=11, min_samples_split=8, n_estimators=20; total time=   7.1s\n",
      "[CV] END .max_depth=11, min_samples_split=8, n_estimators=20; total time=   7.5s\n",
      "[CV] END .max_depth=11, min_samples_split=8, n_estimators=20; total time=   7.4s\n",
      "[CV] END .max_depth=11, min_samples_split=2, n_estimators=60; total time=  22.8s\n",
      "[CV] END .max_depth=11, min_samples_split=2, n_estimators=60; total time=  20.6s\n",
      "[CV] END .max_depth=11, min_samples_split=2, n_estimators=60; total time=  21.6s\n",
      "[CV] END .max_depth=11, min_samples_split=2, n_estimators=60; total time=  24.6s\n",
      "[CV] END .max_depth=11, min_samples_split=2, n_estimators=60; total time=  22.0s\n",
      "[CV] END ..max_depth=6, min_samples_split=5, n_estimators=30; total time=   8.7s\n",
      "[CV] END ..max_depth=6, min_samples_split=5, n_estimators=30; total time=   8.5s\n",
      "[CV] END ..max_depth=6, min_samples_split=5, n_estimators=30; total time=   8.6s\n",
      "[CV] END ..max_depth=6, min_samples_split=5, n_estimators=30; total time=   8.5s\n",
      "[CV] END ..max_depth=6, min_samples_split=5, n_estimators=30; total time=   8.6s\n",
      "Random Forest  ::  0.7318441100648116 {'n_estimators': 30, 'min_samples_split': 5, 'max_depth': 16}\n",
      "Fitting 5 folds for each of 10 candidates, totalling 50 fits\n",
      "[CV] END ..learning_rate=0.05, max_depth=16, n_estimators=60; total time= 5.6min\n",
      "[CV] END ..learning_rate=0.05, max_depth=16, n_estimators=60; total time= 5.6min\n",
      "[CV] END ..learning_rate=0.05, max_depth=16, n_estimators=60; total time= 5.7min\n",
      "[CV] END ..learning_rate=0.05, max_depth=16, n_estimators=60; total time= 6.1min\n",
      "[CV] END ..learning_rate=0.05, max_depth=16, n_estimators=60; total time= 5.9min\n",
      "[CV] END ..learning_rate=0.01, max_depth=11, n_estimators=90; total time=  30.4s\n",
      "[CV] END ..learning_rate=0.01, max_depth=11, n_estimators=90; total time=  31.2s\n",
      "[CV] END ..learning_rate=0.01, max_depth=11, n_estimators=90; total time=  28.9s\n",
      "[CV] END ..learning_rate=0.01, max_depth=11, n_estimators=90; total time=  30.7s\n",
      "[CV] END ..learning_rate=0.01, max_depth=11, n_estimators=90; total time=  28.6s\n",
      "[CV] END ..learning_rate=0.08, max_depth=11, n_estimators=60; total time=  21.9s\n",
      "[CV] END ..learning_rate=0.08, max_depth=11, n_estimators=60; total time=  24.0s\n",
      "[CV] END ..learning_rate=0.08, max_depth=11, n_estimators=60; total time=  23.1s\n",
      "[CV] END ..learning_rate=0.08, max_depth=11, n_estimators=60; total time=  21.0s\n",
      "[CV] END ..learning_rate=0.08, max_depth=11, n_estimators=60; total time=  20.9s\n",
      "[CV] END ..learning_rate=0.08, max_depth=11, n_estimators=10; total time=   6.6s\n",
      "[CV] END ..learning_rate=0.08, max_depth=11, n_estimators=10; total time=   6.3s\n",
      "[CV] END ..learning_rate=0.08, max_depth=11, n_estimators=10; total time=   6.4s\n",
      "[CV] END ..learning_rate=0.08, max_depth=11, n_estimators=10; total time=   6.5s\n",
      "[CV] END ..learning_rate=0.08, max_depth=11, n_estimators=10; total time=   7.4s\n",
      "[CV] END ..learning_rate=0.01, max_depth=16, n_estimators=30; total time= 2.6min\n",
      "[CV] END ..learning_rate=0.01, max_depth=16, n_estimators=30; total time= 2.9min\n",
      "[CV] END ..learning_rate=0.01, max_depth=16, n_estimators=30; total time= 2.9min\n",
      "[CV] END ..learning_rate=0.01, max_depth=16, n_estimators=30; total time= 2.9min\n",
      "[CV] END ..learning_rate=0.01, max_depth=16, n_estimators=30; total time= 2.9min\n",
      "[CV] END ...learning_rate=0.05, max_depth=1, n_estimators=40; total time=   5.3s\n",
      "[CV] END ...learning_rate=0.05, max_depth=1, n_estimators=40; total time=   5.2s\n",
      "[CV] END ...learning_rate=0.05, max_depth=1, n_estimators=40; total time=   5.5s\n",
      "[CV] END ...learning_rate=0.05, max_depth=1, n_estimators=40; total time=   5.2s\n",
      "[CV] END ...learning_rate=0.05, max_depth=1, n_estimators=40; total time=   5.2s\n",
      "[CV] END ..learning_rate=0.01, max_depth=16, n_estimators=10; total time=  52.4s\n",
      "[CV] END ..learning_rate=0.01, max_depth=16, n_estimators=10; total time=  59.2s\n",
      "[CV] END ..learning_rate=0.01, max_depth=16, n_estimators=10; total time=  59.6s\n",
      "[CV] END ..learning_rate=0.01, max_depth=16, n_estimators=10; total time=  59.4s\n",
      "[CV] END ..learning_rate=0.01, max_depth=16, n_estimators=10; total time=  59.1s\n",
      "[CV] END ..learning_rate=0.01, max_depth=16, n_estimators=40; total time= 3.6min\n",
      "[CV] END ..learning_rate=0.01, max_depth=16, n_estimators=40; total time= 3.9min\n",
      "[CV] END ..learning_rate=0.01, max_depth=16, n_estimators=40; total time= 3.8min\n",
      "[CV] END ..learning_rate=0.01, max_depth=16, n_estimators=40; total time= 3.8min\n",
      "[CV] END ..learning_rate=0.01, max_depth=16, n_estimators=40; total time= 3.8min\n",
      "[CV] END ...learning_rate=0.1, max_depth=16, n_estimators=90; total time= 8.5min\n",
      "[CV] END ...learning_rate=0.1, max_depth=16, n_estimators=90; total time= 8.9min\n",
      "[CV] END ...learning_rate=0.1, max_depth=16, n_estimators=90; total time= 8.8min\n",
      "[CV] END ...learning_rate=0.1, max_depth=16, n_estimators=90; total time= 9.0min\n",
      "[CV] END ...learning_rate=0.1, max_depth=16, n_estimators=90; total time= 8.9min\n",
      "[CV] END ...learning_rate=0.03, max_depth=6, n_estimators=80; total time=   9.7s\n",
      "[CV] END ...learning_rate=0.03, max_depth=6, n_estimators=80; total time=   9.7s\n",
      "[CV] END ...learning_rate=0.03, max_depth=6, n_estimators=80; total time=  10.0s\n",
      "[CV] END ...learning_rate=0.03, max_depth=6, n_estimators=80; total time=  10.1s\n",
      "[CV] END ...learning_rate=0.03, max_depth=6, n_estimators=80; total time=   9.5s\n",
      "Catboost  ::  0.7362295665103307 {'n_estimators': 60, 'max_depth': 11, 'learning_rate': 0.08}\n",
      "Best Model ::  <catboost.core.CatBoostClassifier object at 0x0000022CDD15FDC0>\n"
     ]
    }
   ],
   "source": [
    "best_model = hyperparameter_tuning()"
   ]
  },
  {
   "cell_type": "code",
   "execution_count": 35,
   "id": "f19016f2-7739-49b9-8aec-5c05a7a16eaf",
   "metadata": {},
   "outputs": [],
   "source": [
    "import keras_tuner as kt"
   ]
  },
  {
   "cell_type": "code",
   "execution_count": 82,
   "id": "508d59e2-ce3f-4fce-beeb-a9f8068bb070",
   "metadata": {},
   "outputs": [
    {
     "data": {
      "text/plain": [
       "(793076, 24)"
      ]
     },
     "execution_count": 82,
     "metadata": {},
     "output_type": "execute_result"
    }
   ],
   "source": [
    "x_train_scaled.shape"
   ]
  },
  {
   "cell_type": "code",
   "execution_count": 83,
   "id": "90161c2b-0c4c-4d8d-8de1-dc140d93c76d",
   "metadata": {},
   "outputs": [],
   "source": [
    "def build_model(hp):\n",
    "    model = keras.Sequential()\n",
    "    model.add(keras.layers.InputLayer(x_test_scaled.shape[1], ))\n",
    "\n",
    "    for i in range(hp.Int('num_layers', 2, 5, default=3)):\n",
    "        model.add(keras.layers.Dense(units=hp.Int('units_' + str(i), 32, 256, step=32), activation='relu'))\n",
    "\n",
    "        if hp.Boolean('dropout'):\n",
    "            model.add(keras.layers.Dropout(rate=0.5))\n",
    "\n",
    "    model.add(keras.layers.Dense(1, activation=\"sigmoid\"))\n",
    "\n",
    "    model.compile(loss=\"binary_crossentropy\", optimizer=keras.optimizers.Adam(hp.Choice('learning_rate', [1e-3, 1e-4, 1e-5])), metrics=[\"accuracy\", 'AUC', keras.metrics.Precision(), keras.metrics.Recall()])\n",
    "\n",
    "    return model"
   ]
  },
  {
   "cell_type": "code",
   "execution_count": 91,
   "id": "13413635-3353-4e75-adac-fd0c44d6ed4b",
   "metadata": {},
   "outputs": [],
   "source": [
    "tuner = kt.RandomSearch(\n",
    "    build_model,\n",
    "    objective='val_accuracy',\n",
    "    max_trials=3,\n",
    "    executions_per_trial=2,\n",
    "    overwrite=True\n",
    ")"
   ]
  },
  {
   "cell_type": "code",
   "execution_count": null,
   "id": "6133ba2d-6f17-4b37-a691-adcdd165cae4",
   "metadata": {},
   "outputs": [
    {
     "name": "stdout",
     "output_type": "stream",
     "text": [
      "Trial 3 Complete [00h 59m 31s]\n",
      "val_accuracy: 0.7388031482696533\n",
      "\n",
      "Best val_accuracy So Far: 0.7388031482696533\n",
      "Total elapsed time: 02h 21m 51s\n"
     ]
    }
   ],
   "source": [
    "tuner.search(x_train_scaled, y_train, validation_split=0.1, epochs=30, batch_size=32, callbacks=[early_stopping_cb, checkpoint_cb])"
   ]
  },
  {
   "cell_type": "code",
   "execution_count": 71,
   "id": "d38d3ddd-c7fa-45ee-b9c0-9159dc278f49",
   "metadata": {},
   "outputs": [
    {
     "data": {
      "text/plain": [
       "(198270, 24)"
      ]
     },
     "execution_count": 71,
     "metadata": {},
     "output_type": "execute_result"
    }
   ],
   "source": [
    "x_test_scaled.shape"
   ]
  },
  {
   "cell_type": "code",
   "execution_count": 94,
   "id": "5ed1e8a5-dddc-4f4d-bd7c-8a14a29da722",
   "metadata": {},
   "outputs": [
    {
     "data": {
      "text/plain": [
       "<keras.src.engine.sequential.Sequential at 0x18ba1d3a050>"
      ]
     },
     "execution_count": 94,
     "metadata": {},
     "output_type": "execute_result"
    }
   ],
   "source": [
    "best_nn_model = tuner.get_best_models()[0]\n",
    "best_nn_model"
   ]
  },
  {
   "cell_type": "code",
   "execution_count": 112,
   "id": "a37739f9-bafa-432b-aef7-36c34395dff4",
   "metadata": {},
   "outputs": [
    {
     "name": "stdout",
     "output_type": "stream",
     "text": [
      "Model: \"sequential\"\n",
      "_________________________________________________________________\n",
      " Layer (type)                Output Shape              Param #   \n",
      "=================================================================\n",
      " dense (Dense)               (None, 256)               6400      \n",
      "                                                                 \n",
      " dropout (Dropout)           (None, 256)               0         \n",
      "                                                                 \n",
      " dense_1 (Dense)             (None, 160)               41120     \n",
      "                                                                 \n",
      " dropout_1 (Dropout)         (None, 160)               0         \n",
      "                                                                 \n",
      " dense_2 (Dense)             (None, 160)               25760     \n",
      "                                                                 \n",
      " dropout_2 (Dropout)         (None, 160)               0         \n",
      "                                                                 \n",
      " dense_3 (Dense)             (None, 1)                 161       \n",
      "                                                                 \n",
      "=================================================================\n",
      "Total params: 73441 (286.88 KB)\n",
      "Trainable params: 73441 (286.88 KB)\n",
      "Non-trainable params: 0 (0.00 Byte)\n",
      "_________________________________________________________________\n"
     ]
    }
   ],
   "source": [
    "best_nn_model.summary()"
   ]
  },
  {
   "cell_type": "code",
   "execution_count": 105,
   "id": "24dd005b-d410-4fe1-8ba7-0be3a91dfbf1",
   "metadata": {},
   "outputs": [
    {
     "name": "stdout",
     "output_type": "stream",
     "text": [
      "6196/6196 [==============================] - 7s 1ms/step - loss: 0.5141 - accuracy: 0.7403 - auc: 0.8233 - precision: 0.7395 - recall: 0.7381\n"
     ]
    }
   ],
   "source": [
    "nn_loss = best_nn_model.evaluate(x_test_scaled, y_test)"
   ]
  },
  {
   "cell_type": "code",
   "execution_count": 115,
   "id": "8870c349-07f7-4d05-8a1a-e1f8987708b3",
   "metadata": {},
   "outputs": [
    {
     "name": "stdout",
     "output_type": "stream",
     "text": [
      "6196/6196 [==============================] - 8s 1ms/step\n"
     ]
    }
   ],
   "source": [
    "y_pred = best_nn_model.predict(x_test_scaled)"
   ]
  },
  {
   "cell_type": "code",
   "execution_count": 404,
   "id": "624ce4b7-8ca5-42e3-8e15-d632a10fe703",
   "metadata": {},
   "outputs": [],
   "source": [
    "predict = best_model.predict(x_test_scaled)"
   ]
  },
  {
   "cell_type": "code",
   "execution_count": 116,
   "id": "5ff1b22a-f4d8-4cb5-b306-9ddba894c466",
   "metadata": {},
   "outputs": [],
   "source": [
    "from sklearn.metrics import accuracy_score, classification_report, confusion_matrix"
   ]
  },
  {
   "cell_type": "code",
   "execution_count": 405,
   "id": "ee2f5f4b-cb30-431c-8493-f1b0cedf6d8f",
   "metadata": {},
   "outputs": [],
   "source": [
    "acc = accuracy_score(predict, y_test)"
   ]
  },
  {
   "cell_type": "code",
   "execution_count": 406,
   "id": "1f167856-b4ee-489c-930e-9a095353e64f",
   "metadata": {},
   "outputs": [
    {
     "data": {
      "text/plain": [
       "0.7370656175921723"
      ]
     },
     "execution_count": 406,
     "metadata": {},
     "output_type": "execute_result"
    }
   ],
   "source": [
    "acc"
   ]
  }
 ],
 "metadata": {
  "kernelspec": {
   "display_name": "Python 3 (ipykernel)",
   "language": "python",
   "name": "python3"
  },
  "language_info": {
   "codemirror_mode": {
    "name": "ipython",
    "version": 3
   },
   "file_extension": ".py",
   "mimetype": "text/x-python",
   "name": "python",
   "nbconvert_exporter": "python",
   "pygments_lexer": "ipython3",
   "version": "3.11.5"
  }
 },
 "nbformat": 4,
 "nbformat_minor": 5
}
